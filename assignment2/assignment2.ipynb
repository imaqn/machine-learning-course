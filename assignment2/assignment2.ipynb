{
 "cells": [
  {
   "cell_type": "markdown",
   "source": [
    "Assignment 2: Pembagian Data\n",
    "\n",
    "Siti Muslimah KHN - 19/442489/PA/19238"
   ],
   "metadata": {}
  },
  {
   "cell_type": "code",
   "execution_count": 1,
   "source": [
    "import pandas as pd\n",
    "import numpy as np\n",
    "data = pd.read_csv('iris.csv')"
   ],
   "outputs": [],
   "metadata": {}
  },
  {
   "cell_type": "code",
   "execution_count": 2,
   "source": [
    "data.head()"
   ],
   "outputs": [
    {
     "data": {
      "text/plain": "   sepal_length  sepal_width  petal_length  petal_width species\n0           5.1          3.5           1.4          0.2  setosa\n1           4.9          3.0           1.4          0.2  setosa\n2           4.7          3.2           1.3          0.2  setosa\n3           4.6          3.1           1.5          0.2  setosa\n4           5.0          3.6           1.4          0.2  setosa",
      "text/html": "<div>\n<style scoped>\n    .dataframe tbody tr th:only-of-type {\n        vertical-align: middle;\n    }\n\n    .dataframe tbody tr th {\n        vertical-align: top;\n    }\n\n    .dataframe thead th {\n        text-align: right;\n    }\n</style>\n<table border=\"1\" class=\"dataframe\">\n  <thead>\n    <tr style=\"text-align: right;\">\n      <th></th>\n      <th>sepal_length</th>\n      <th>sepal_width</th>\n      <th>petal_length</th>\n      <th>petal_width</th>\n      <th>species</th>\n    </tr>\n  </thead>\n  <tbody>\n    <tr>\n      <th>0</th>\n      <td>5.1</td>\n      <td>3.5</td>\n      <td>1.4</td>\n      <td>0.2</td>\n      <td>setosa</td>\n    </tr>\n    <tr>\n      <th>1</th>\n      <td>4.9</td>\n      <td>3.0</td>\n      <td>1.4</td>\n      <td>0.2</td>\n      <td>setosa</td>\n    </tr>\n    <tr>\n      <th>2</th>\n      <td>4.7</td>\n      <td>3.2</td>\n      <td>1.3</td>\n      <td>0.2</td>\n      <td>setosa</td>\n    </tr>\n    <tr>\n      <th>3</th>\n      <td>4.6</td>\n      <td>3.1</td>\n      <td>1.5</td>\n      <td>0.2</td>\n      <td>setosa</td>\n    </tr>\n    <tr>\n      <th>4</th>\n      <td>5.0</td>\n      <td>3.6</td>\n      <td>1.4</td>\n      <td>0.2</td>\n      <td>setosa</td>\n    </tr>\n  </tbody>\n</table>\n</div>"
     },
     "execution_count": 2,
     "metadata": {},
     "output_type": "execute_result"
    }
   ],
   "metadata": {}
  },
  {
   "cell_type": "code",
   "execution_count": 3,
   "source": [
    "data.describe()"
   ],
   "outputs": [
    {
     "data": {
      "text/plain": "       sepal_length  sepal_width  petal_length  petal_width\ncount    150.000000   150.000000    150.000000   150.000000\nmean       5.843333     3.054000      3.758667     1.198667\nstd        0.828066     0.433594      1.764420     0.763161\nmin        4.300000     2.000000      1.000000     0.100000\n25%        5.100000     2.800000      1.600000     0.300000\n50%        5.800000     3.000000      4.350000     1.300000\n75%        6.400000     3.300000      5.100000     1.800000\nmax        7.900000     4.400000      6.900000     2.500000",
      "text/html": "<div>\n<style scoped>\n    .dataframe tbody tr th:only-of-type {\n        vertical-align: middle;\n    }\n\n    .dataframe tbody tr th {\n        vertical-align: top;\n    }\n\n    .dataframe thead th {\n        text-align: right;\n    }\n</style>\n<table border=\"1\" class=\"dataframe\">\n  <thead>\n    <tr style=\"text-align: right;\">\n      <th></th>\n      <th>sepal_length</th>\n      <th>sepal_width</th>\n      <th>petal_length</th>\n      <th>petal_width</th>\n    </tr>\n  </thead>\n  <tbody>\n    <tr>\n      <th>count</th>\n      <td>150.000000</td>\n      <td>150.000000</td>\n      <td>150.000000</td>\n      <td>150.000000</td>\n    </tr>\n    <tr>\n      <th>mean</th>\n      <td>5.843333</td>\n      <td>3.054000</td>\n      <td>3.758667</td>\n      <td>1.198667</td>\n    </tr>\n    <tr>\n      <th>std</th>\n      <td>0.828066</td>\n      <td>0.433594</td>\n      <td>1.764420</td>\n      <td>0.763161</td>\n    </tr>\n    <tr>\n      <th>min</th>\n      <td>4.300000</td>\n      <td>2.000000</td>\n      <td>1.000000</td>\n      <td>0.100000</td>\n    </tr>\n    <tr>\n      <th>25%</th>\n      <td>5.100000</td>\n      <td>2.800000</td>\n      <td>1.600000</td>\n      <td>0.300000</td>\n    </tr>\n    <tr>\n      <th>50%</th>\n      <td>5.800000</td>\n      <td>3.000000</td>\n      <td>4.350000</td>\n      <td>1.300000</td>\n    </tr>\n    <tr>\n      <th>75%</th>\n      <td>6.400000</td>\n      <td>3.300000</td>\n      <td>5.100000</td>\n      <td>1.800000</td>\n    </tr>\n    <tr>\n      <th>max</th>\n      <td>7.900000</td>\n      <td>4.400000</td>\n      <td>6.900000</td>\n      <td>2.500000</td>\n    </tr>\n  </tbody>\n</table>\n</div>"
     },
     "execution_count": 3,
     "metadata": {},
     "output_type": "execute_result"
    }
   ],
   "metadata": {}
  },
  {
   "cell_type": "markdown",
   "source": [
    "Memisahkan dataframe berdasarkan spesies"
   ],
   "metadata": {}
  },
  {
   "cell_type": "code",
   "execution_count": 4,
   "source": [
    "def splitDataFrame(dataset):\n",
    "    splitted = []\n",
    "    species = dataset['species'].unique()\n",
    "    for i in range(len(species)):\n",
    "        splitted.append(dataset[dataset['species']==species[i]])\n",
    "    return splitted"
   ],
   "outputs": [],
   "metadata": {}
  },
  {
   "cell_type": "markdown",
   "source": [
    "Membagi dataframe ke dalam folds"
   ],
   "metadata": {}
  },
  {
   "cell_type": "code",
   "execution_count": 5,
   "source": [
    "from random import seed\n",
    "from random import randrange\n",
    "from random import shuffle\n",
    "\n",
    "def crossValidationSplit(dataset, folds):\n",
    "    datasetSplit = []\n",
    "    for j in range(len(dataset)): #membagi setiap spesies ke dalam folds\n",
    "        datasetSplitSpecies = []\n",
    "        datasetCopy = dataset[j].values.tolist()\n",
    "        foldSize = int(len(dataset[j])/folds)\n",
    "        for i in range(folds): \n",
    "            fold = []\n",
    "            while len(fold) < foldSize:\n",
    "                idx = randrange(len(datasetCopy))\n",
    "                fold.append(datasetCopy[idx])\n",
    "                datasetCopy.pop(idx)\n",
    "            datasetSplitSpecies.append(fold)\n",
    "        datasetSplit.append(datasetSplitSpecies)\n",
    "    datasetSplitFinal = []\n",
    "    for i in range(folds): #mengatur spesies berdasar folds\n",
    "        temp = []\n",
    "        for j in range(len(datasetSplit)):\n",
    "            temp = temp + datasetSplit[j][i]\n",
    "        datasetSplitFinal.append(temp)\n",
    "    for i in range(folds): #mengacak row dalam folds\n",
    "        shuffle(datasetSplitFinal[i])\n",
    "    return datasetSplitFinal"
   ],
   "outputs": [],
   "metadata": {}
  },
  {
   "cell_type": "markdown",
   "source": [
    "Mengelompokkan folds yang dihasilkan ke dalam train set dan test set"
   ],
   "metadata": {}
  },
  {
   "cell_type": "code",
   "execution_count": 6,
   "source": [
    "def splitTrainTest(foldData):\n",
    "    train = []\n",
    "    test = []\n",
    "    for i in range(len(foldData)):\n",
    "        test.append(foldData[i])\n",
    "        temp = []\n",
    "        for j in range(len(foldData)):\n",
    "            if j!=i:\n",
    "                temp = temp + foldData[j]\n",
    "        train.append(temp)\n",
    "    return train, test"
   ],
   "outputs": [],
   "metadata": {}
  },
  {
   "cell_type": "code",
   "execution_count": 7,
   "source": [
    "seed(5)\n",
    "splittedData = splitDataFrame(data)\n",
    "folds = crossValidationSplit(splittedData, 5)\n",
    "train, test = splitTrainTest(folds)"
   ],
   "outputs": [],
   "metadata": {}
  },
  {
   "cell_type": "code",
   "execution_count": 8,
   "source": [
    "train[0]"
   ],
   "outputs": [
    {
     "data": {
      "text/plain": "[[6.8, 3.0, 5.5, 2.1, 'virginica'],\n [4.9, 3.1, 1.5, 0.1, 'setosa'],\n [4.9, 2.4, 3.3, 1.0, 'versicolor'],\n [4.8, 3.1, 1.6, 0.2, 'setosa'],\n [5.8, 2.7, 5.1, 1.9, 'virginica'],\n [4.4, 2.9, 1.4, 0.2, 'setosa'],\n [5.6, 3.0, 4.1, 1.3, 'versicolor'],\n [6.3, 2.7, 4.9, 1.8, 'virginica'],\n [4.5, 2.3, 1.3, 0.3, 'setosa'],\n [5.0, 3.6, 1.4, 0.2, 'setosa'],\n [5.1, 3.5, 1.4, 0.2, 'setosa'],\n [7.9, 3.8, 6.4, 2.0, 'virginica'],\n [5.8, 2.7, 3.9, 1.2, 'versicolor'],\n [5.8, 2.8, 5.1, 2.4, 'virginica'],\n [4.8, 3.0, 1.4, 0.1, 'setosa'],\n [6.2, 2.9, 4.3, 1.3, 'versicolor'],\n [5.7, 2.9, 4.2, 1.3, 'versicolor'],\n [6.3, 2.8, 5.1, 1.5, 'virginica'],\n [6.7, 3.1, 4.7, 1.5, 'versicolor'],\n [4.8, 3.4, 1.9, 0.2, 'setosa'],\n [7.4, 2.8, 6.1, 1.9, 'virginica'],\n [4.9, 3.1, 1.5, 0.1, 'setosa'],\n [7.7, 3.0, 6.1, 2.3, 'virginica'],\n [5.1, 2.5, 3.0, 1.1, 'versicolor'],\n [5.5, 2.4, 3.7, 1.0, 'versicolor'],\n [6.1, 3.0, 4.9, 1.8, 'virginica'],\n [5.1, 3.7, 1.5, 0.4, 'setosa'],\n [6.0, 2.7, 5.1, 1.6, 'versicolor'],\n [6.7, 2.5, 5.8, 1.8, 'virginica'],\n [7.0, 3.2, 4.7, 1.4, 'versicolor'],\n [5.7, 4.4, 1.5, 0.4, 'setosa'],\n [6.5, 3.0, 5.2, 2.0, 'virginica'],\n [6.3, 2.5, 5.0, 1.9, 'virginica'],\n [4.8, 3.4, 1.6, 0.2, 'setosa'],\n [5.4, 3.0, 4.5, 1.5, 'versicolor'],\n [5.5, 2.4, 3.8, 1.1, 'versicolor'],\n [6.3, 3.4, 5.6, 2.4, 'virginica'],\n [4.3, 3.0, 1.1, 0.1, 'setosa'],\n [5.0, 3.0, 1.6, 0.2, 'setosa'],\n [6.7, 3.0, 5.0, 1.7, 'versicolor'],\n [5.2, 3.5, 1.5, 0.2, 'setosa'],\n [6.5, 3.2, 5.1, 2.0, 'virginica'],\n [6.9, 3.2, 5.7, 2.3, 'virginica'],\n [6.7, 3.0, 5.2, 2.3, 'virginica'],\n [5.4, 3.7, 1.5, 0.2, 'setosa'],\n [6.7, 3.1, 5.6, 2.4, 'virginica'],\n [5.2, 2.7, 3.9, 1.4, 'versicolor'],\n [5.5, 2.3, 4.0, 1.3, 'versicolor'],\n [5.8, 4.0, 1.2, 0.2, 'setosa'],\n [5.0, 2.3, 3.3, 1.0, 'versicolor'],\n [6.3, 2.9, 5.6, 1.8, 'virginica'],\n [5.7, 2.5, 5.0, 2.0, 'virginica'],\n [5.4, 3.9, 1.7, 0.4, 'setosa'],\n [6.2, 2.2, 4.5, 1.5, 'versicolor'],\n [6.0, 2.2, 4.0, 1.0, 'versicolor'],\n [4.4, 3.0, 1.3, 0.2, 'setosa'],\n [6.9, 3.1, 4.9, 1.5, 'versicolor'],\n [5.3, 3.7, 1.5, 0.2, 'setosa'],\n [7.2, 3.6, 6.1, 2.5, 'virginica'],\n [5.6, 3.0, 4.5, 1.5, 'versicolor'],\n [5.8, 2.7, 5.1, 1.9, 'virginica'],\n [4.6, 3.6, 1.0, 0.2, 'setosa'],\n [5.5, 2.5, 4.0, 1.3, 'versicolor'],\n [4.9, 3.1, 1.5, 0.1, 'setosa'],\n [5.6, 2.8, 4.9, 2.0, 'virginica'],\n [6.3, 3.3, 4.7, 1.6, 'versicolor'],\n [6.1, 2.6, 5.6, 1.4, 'virginica'],\n [6.4, 3.1, 5.5, 1.8, 'virginica'],\n [5.1, 3.8, 1.5, 0.3, 'setosa'],\n [5.1, 3.8, 1.6, 0.2, 'setosa'],\n [4.7, 3.2, 1.3, 0.2, 'setosa'],\n [6.3, 2.3, 4.4, 1.3, 'versicolor'],\n [5.7, 2.8, 4.1, 1.3, 'versicolor'],\n [5.0, 3.4, 1.6, 0.4, 'setosa'],\n [7.7, 2.8, 6.7, 2.0, 'virginica'],\n [7.7, 3.8, 6.7, 2.2, 'virginica'],\n [6.5, 3.0, 5.8, 2.2, 'virginica'],\n [6.0, 3.4, 4.5, 1.6, 'versicolor'],\n [6.4, 2.9, 4.3, 1.3, 'versicolor'],\n [6.6, 2.9, 4.6, 1.3, 'versicolor'],\n [5.0, 3.5, 1.6, 0.6, 'setosa'],\n [6.1, 3.0, 4.6, 1.4, 'versicolor'],\n [7.6, 3.0, 6.6, 2.1, 'virginica'],\n [5.7, 3.8, 1.7, 0.3, 'setosa'],\n [6.2, 3.4, 5.4, 2.3, 'virginica'],\n [5.4, 3.4, 1.7, 0.2, 'setosa'],\n [6.1, 2.8, 4.0, 1.3, 'versicolor'],\n [6.5, 2.8, 4.6, 1.5, 'versicolor'],\n [6.9, 3.1, 5.1, 2.3, 'virginica'],\n [4.6, 3.1, 1.5, 0.2, 'setosa'],\n [7.7, 2.6, 6.9, 2.3, 'virginica'],\n [5.8, 2.7, 4.1, 1.0, 'versicolor'],\n [6.3, 2.5, 4.9, 1.5, 'versicolor'],\n [5.6, 2.9, 3.6, 1.3, 'versicolor'],\n [5.2, 3.4, 1.4, 0.2, 'setosa'],\n [5.0, 3.5, 1.3, 0.3, 'setosa'],\n [6.1, 2.8, 4.7, 1.2, 'versicolor'],\n [4.6, 3.4, 1.4, 0.3, 'setosa'],\n [6.4, 2.8, 5.6, 2.1, 'virginica'],\n [5.5, 2.6, 4.4, 1.2, 'versicolor'],\n [5.5, 3.5, 1.3, 0.2, 'setosa'],\n [6.2, 2.8, 4.8, 1.8, 'virginica'],\n [5.6, 2.7, 4.2, 1.3, 'versicolor'],\n [6.1, 2.9, 4.7, 1.4, 'versicolor'],\n [6.4, 2.7, 5.3, 1.9, 'virginica'],\n [5.7, 3.0, 4.2, 1.2, 'versicolor'],\n [6.3, 3.3, 6.0, 2.5, 'virginica'],\n [5.4, 3.4, 1.5, 0.4, 'setosa'],\n [6.8, 3.2, 5.9, 2.3, 'virginica'],\n [6.7, 3.3, 5.7, 2.5, 'virginica'],\n [6.7, 3.1, 4.4, 1.4, 'versicolor'],\n [5.0, 3.4, 1.5, 0.2, 'setosa'],\n [4.4, 3.2, 1.3, 0.2, 'setosa'],\n [7.2, 3.2, 6.0, 1.8, 'virginica'],\n [4.7, 3.2, 1.6, 0.2, 'setosa'],\n [4.8, 3.0, 1.4, 0.3, 'setosa'],\n [5.8, 2.6, 4.0, 1.2, 'versicolor'],\n [5.5, 4.2, 1.4, 0.2, 'setosa'],\n [6.4, 3.2, 5.3, 2.3, 'virginica'],\n [6.0, 3.0, 4.8, 1.8, 'virginica']]"
     },
     "execution_count": 8,
     "metadata": {},
     "output_type": "execute_result"
    }
   ],
   "metadata": {}
  },
  {
   "cell_type": "code",
   "execution_count": 9,
   "source": [
    "test[0]"
   ],
   "outputs": [
    {
     "data": {
      "text/plain": "[[7.3, 2.9, 6.3, 1.8, 'virginica'],\n [7.1, 3.0, 5.9, 2.1, 'virginica'],\n [5.1, 3.4, 1.5, 0.2, 'setosa'],\n [5.0, 2.0, 3.5, 1.0, 'versicolor'],\n [6.5, 3.0, 5.5, 1.8, 'virginica'],\n [5.0, 3.2, 1.2, 0.2, 'setosa'],\n [6.6, 3.0, 4.4, 1.4, 'versicolor'],\n [5.7, 2.8, 4.5, 1.3, 'versicolor'],\n [4.9, 2.5, 4.5, 1.7, 'virginica'],\n [5.6, 2.5, 3.9, 1.1, 'versicolor'],\n [5.9, 3.0, 4.2, 1.5, 'versicolor'],\n [5.2, 4.1, 1.5, 0.1, 'setosa'],\n [5.0, 3.3, 1.4, 0.2, 'setosa'],\n [5.9, 3.2, 4.8, 1.8, 'versicolor'],\n [4.9, 3.0, 1.4, 0.2, 'setosa'],\n [6.8, 2.8, 4.8, 1.4, 'versicolor'],\n [5.1, 3.5, 1.4, 0.3, 'setosa'],\n [7.2, 3.0, 5.8, 1.6, 'virginica'],\n [5.4, 3.9, 1.3, 0.4, 'setosa'],\n [6.4, 2.8, 5.6, 2.2, 'virginica'],\n [6.4, 3.2, 4.5, 1.5, 'versicolor'],\n [6.7, 3.3, 5.7, 2.1, 'virginica'],\n [5.1, 3.8, 1.9, 0.4, 'setosa'],\n [5.1, 3.3, 1.7, 0.5, 'setosa'],\n [5.7, 2.6, 3.5, 1.0, 'versicolor'],\n [6.0, 2.2, 5.0, 1.5, 'virginica'],\n [5.9, 3.0, 5.1, 1.8, 'virginica'],\n [4.6, 3.2, 1.4, 0.2, 'setosa'],\n [6.0, 2.9, 4.5, 1.5, 'versicolor'],\n [6.9, 3.1, 5.4, 2.1, 'virginica']]"
     },
     "execution_count": 9,
     "metadata": {},
     "output_type": "execute_result"
    }
   ],
   "metadata": {}
  },
  {
   "cell_type": "code",
   "execution_count": 10,
   "source": [
    "train[1]"
   ],
   "outputs": [
    {
     "data": {
      "text/plain": "[[7.3, 2.9, 6.3, 1.8, 'virginica'],\n [7.1, 3.0, 5.9, 2.1, 'virginica'],\n [5.1, 3.4, 1.5, 0.2, 'setosa'],\n [5.0, 2.0, 3.5, 1.0, 'versicolor'],\n [6.5, 3.0, 5.5, 1.8, 'virginica'],\n [5.0, 3.2, 1.2, 0.2, 'setosa'],\n [6.6, 3.0, 4.4, 1.4, 'versicolor'],\n [5.7, 2.8, 4.5, 1.3, 'versicolor'],\n [4.9, 2.5, 4.5, 1.7, 'virginica'],\n [5.6, 2.5, 3.9, 1.1, 'versicolor'],\n [5.9, 3.0, 4.2, 1.5, 'versicolor'],\n [5.2, 4.1, 1.5, 0.1, 'setosa'],\n [5.0, 3.3, 1.4, 0.2, 'setosa'],\n [5.9, 3.2, 4.8, 1.8, 'versicolor'],\n [4.9, 3.0, 1.4, 0.2, 'setosa'],\n [6.8, 2.8, 4.8, 1.4, 'versicolor'],\n [5.1, 3.5, 1.4, 0.3, 'setosa'],\n [7.2, 3.0, 5.8, 1.6, 'virginica'],\n [5.4, 3.9, 1.3, 0.4, 'setosa'],\n [6.4, 2.8, 5.6, 2.2, 'virginica'],\n [6.4, 3.2, 4.5, 1.5, 'versicolor'],\n [6.7, 3.3, 5.7, 2.1, 'virginica'],\n [5.1, 3.8, 1.9, 0.4, 'setosa'],\n [5.1, 3.3, 1.7, 0.5, 'setosa'],\n [5.7, 2.6, 3.5, 1.0, 'versicolor'],\n [6.0, 2.2, 5.0, 1.5, 'virginica'],\n [5.9, 3.0, 5.1, 1.8, 'virginica'],\n [4.6, 3.2, 1.4, 0.2, 'setosa'],\n [6.0, 2.9, 4.5, 1.5, 'versicolor'],\n [6.9, 3.1, 5.4, 2.1, 'virginica'],\n [5.7, 4.4, 1.5, 0.4, 'setosa'],\n [6.5, 3.0, 5.2, 2.0, 'virginica'],\n [6.3, 2.5, 5.0, 1.9, 'virginica'],\n [4.8, 3.4, 1.6, 0.2, 'setosa'],\n [5.4, 3.0, 4.5, 1.5, 'versicolor'],\n [5.5, 2.4, 3.8, 1.1, 'versicolor'],\n [6.3, 3.4, 5.6, 2.4, 'virginica'],\n [4.3, 3.0, 1.1, 0.1, 'setosa'],\n [5.0, 3.0, 1.6, 0.2, 'setosa'],\n [6.7, 3.0, 5.0, 1.7, 'versicolor'],\n [5.2, 3.5, 1.5, 0.2, 'setosa'],\n [6.5, 3.2, 5.1, 2.0, 'virginica'],\n [6.9, 3.2, 5.7, 2.3, 'virginica'],\n [6.7, 3.0, 5.2, 2.3, 'virginica'],\n [5.4, 3.7, 1.5, 0.2, 'setosa'],\n [6.7, 3.1, 5.6, 2.4, 'virginica'],\n [5.2, 2.7, 3.9, 1.4, 'versicolor'],\n [5.5, 2.3, 4.0, 1.3, 'versicolor'],\n [5.8, 4.0, 1.2, 0.2, 'setosa'],\n [5.0, 2.3, 3.3, 1.0, 'versicolor'],\n [6.3, 2.9, 5.6, 1.8, 'virginica'],\n [5.7, 2.5, 5.0, 2.0, 'virginica'],\n [5.4, 3.9, 1.7, 0.4, 'setosa'],\n [6.2, 2.2, 4.5, 1.5, 'versicolor'],\n [6.0, 2.2, 4.0, 1.0, 'versicolor'],\n [4.4, 3.0, 1.3, 0.2, 'setosa'],\n [6.9, 3.1, 4.9, 1.5, 'versicolor'],\n [5.3, 3.7, 1.5, 0.2, 'setosa'],\n [7.2, 3.6, 6.1, 2.5, 'virginica'],\n [5.6, 3.0, 4.5, 1.5, 'versicolor'],\n [5.8, 2.7, 5.1, 1.9, 'virginica'],\n [4.6, 3.6, 1.0, 0.2, 'setosa'],\n [5.5, 2.5, 4.0, 1.3, 'versicolor'],\n [4.9, 3.1, 1.5, 0.1, 'setosa'],\n [5.6, 2.8, 4.9, 2.0, 'virginica'],\n [6.3, 3.3, 4.7, 1.6, 'versicolor'],\n [6.1, 2.6, 5.6, 1.4, 'virginica'],\n [6.4, 3.1, 5.5, 1.8, 'virginica'],\n [5.1, 3.8, 1.5, 0.3, 'setosa'],\n [5.1, 3.8, 1.6, 0.2, 'setosa'],\n [4.7, 3.2, 1.3, 0.2, 'setosa'],\n [6.3, 2.3, 4.4, 1.3, 'versicolor'],\n [5.7, 2.8, 4.1, 1.3, 'versicolor'],\n [5.0, 3.4, 1.6, 0.4, 'setosa'],\n [7.7, 2.8, 6.7, 2.0, 'virginica'],\n [7.7, 3.8, 6.7, 2.2, 'virginica'],\n [6.5, 3.0, 5.8, 2.2, 'virginica'],\n [6.0, 3.4, 4.5, 1.6, 'versicolor'],\n [6.4, 2.9, 4.3, 1.3, 'versicolor'],\n [6.6, 2.9, 4.6, 1.3, 'versicolor'],\n [5.0, 3.5, 1.6, 0.6, 'setosa'],\n [6.1, 3.0, 4.6, 1.4, 'versicolor'],\n [7.6, 3.0, 6.6, 2.1, 'virginica'],\n [5.7, 3.8, 1.7, 0.3, 'setosa'],\n [6.2, 3.4, 5.4, 2.3, 'virginica'],\n [5.4, 3.4, 1.7, 0.2, 'setosa'],\n [6.1, 2.8, 4.0, 1.3, 'versicolor'],\n [6.5, 2.8, 4.6, 1.5, 'versicolor'],\n [6.9, 3.1, 5.1, 2.3, 'virginica'],\n [4.6, 3.1, 1.5, 0.2, 'setosa'],\n [7.7, 2.6, 6.9, 2.3, 'virginica'],\n [5.8, 2.7, 4.1, 1.0, 'versicolor'],\n [6.3, 2.5, 4.9, 1.5, 'versicolor'],\n [5.6, 2.9, 3.6, 1.3, 'versicolor'],\n [5.2, 3.4, 1.4, 0.2, 'setosa'],\n [5.0, 3.5, 1.3, 0.3, 'setosa'],\n [6.1, 2.8, 4.7, 1.2, 'versicolor'],\n [4.6, 3.4, 1.4, 0.3, 'setosa'],\n [6.4, 2.8, 5.6, 2.1, 'virginica'],\n [5.5, 2.6, 4.4, 1.2, 'versicolor'],\n [5.5, 3.5, 1.3, 0.2, 'setosa'],\n [6.2, 2.8, 4.8, 1.8, 'virginica'],\n [5.6, 2.7, 4.2, 1.3, 'versicolor'],\n [6.1, 2.9, 4.7, 1.4, 'versicolor'],\n [6.4, 2.7, 5.3, 1.9, 'virginica'],\n [5.7, 3.0, 4.2, 1.2, 'versicolor'],\n [6.3, 3.3, 6.0, 2.5, 'virginica'],\n [5.4, 3.4, 1.5, 0.4, 'setosa'],\n [6.8, 3.2, 5.9, 2.3, 'virginica'],\n [6.7, 3.3, 5.7, 2.5, 'virginica'],\n [6.7, 3.1, 4.4, 1.4, 'versicolor'],\n [5.0, 3.4, 1.5, 0.2, 'setosa'],\n [4.4, 3.2, 1.3, 0.2, 'setosa'],\n [7.2, 3.2, 6.0, 1.8, 'virginica'],\n [4.7, 3.2, 1.6, 0.2, 'setosa'],\n [4.8, 3.0, 1.4, 0.3, 'setosa'],\n [5.8, 2.6, 4.0, 1.2, 'versicolor'],\n [5.5, 4.2, 1.4, 0.2, 'setosa'],\n [6.4, 3.2, 5.3, 2.3, 'virginica'],\n [6.0, 3.0, 4.8, 1.8, 'virginica']]"
     },
     "execution_count": 10,
     "metadata": {},
     "output_type": "execute_result"
    }
   ],
   "metadata": {}
  },
  {
   "cell_type": "code",
   "execution_count": 11,
   "source": [
    "test[1]"
   ],
   "outputs": [
    {
     "data": {
      "text/plain": "[[6.8, 3.0, 5.5, 2.1, 'virginica'],\n [4.9, 3.1, 1.5, 0.1, 'setosa'],\n [4.9, 2.4, 3.3, 1.0, 'versicolor'],\n [4.8, 3.1, 1.6, 0.2, 'setosa'],\n [5.8, 2.7, 5.1, 1.9, 'virginica'],\n [4.4, 2.9, 1.4, 0.2, 'setosa'],\n [5.6, 3.0, 4.1, 1.3, 'versicolor'],\n [6.3, 2.7, 4.9, 1.8, 'virginica'],\n [4.5, 2.3, 1.3, 0.3, 'setosa'],\n [5.0, 3.6, 1.4, 0.2, 'setosa'],\n [5.1, 3.5, 1.4, 0.2, 'setosa'],\n [7.9, 3.8, 6.4, 2.0, 'virginica'],\n [5.8, 2.7, 3.9, 1.2, 'versicolor'],\n [5.8, 2.8, 5.1, 2.4, 'virginica'],\n [4.8, 3.0, 1.4, 0.1, 'setosa'],\n [6.2, 2.9, 4.3, 1.3, 'versicolor'],\n [5.7, 2.9, 4.2, 1.3, 'versicolor'],\n [6.3, 2.8, 5.1, 1.5, 'virginica'],\n [6.7, 3.1, 4.7, 1.5, 'versicolor'],\n [4.8, 3.4, 1.9, 0.2, 'setosa'],\n [7.4, 2.8, 6.1, 1.9, 'virginica'],\n [4.9, 3.1, 1.5, 0.1, 'setosa'],\n [7.7, 3.0, 6.1, 2.3, 'virginica'],\n [5.1, 2.5, 3.0, 1.1, 'versicolor'],\n [5.5, 2.4, 3.7, 1.0, 'versicolor'],\n [6.1, 3.0, 4.9, 1.8, 'virginica'],\n [5.1, 3.7, 1.5, 0.4, 'setosa'],\n [6.0, 2.7, 5.1, 1.6, 'versicolor'],\n [6.7, 2.5, 5.8, 1.8, 'virginica'],\n [7.0, 3.2, 4.7, 1.4, 'versicolor']]"
     },
     "execution_count": 11,
     "metadata": {},
     "output_type": "execute_result"
    }
   ],
   "metadata": {}
  },
  {
   "cell_type": "code",
   "execution_count": 12,
   "source": [
    "train[2]"
   ],
   "outputs": [
    {
     "data": {
      "text/plain": "[[7.3, 2.9, 6.3, 1.8, 'virginica'],\n [7.1, 3.0, 5.9, 2.1, 'virginica'],\n [5.1, 3.4, 1.5, 0.2, 'setosa'],\n [5.0, 2.0, 3.5, 1.0, 'versicolor'],\n [6.5, 3.0, 5.5, 1.8, 'virginica'],\n [5.0, 3.2, 1.2, 0.2, 'setosa'],\n [6.6, 3.0, 4.4, 1.4, 'versicolor'],\n [5.7, 2.8, 4.5, 1.3, 'versicolor'],\n [4.9, 2.5, 4.5, 1.7, 'virginica'],\n [5.6, 2.5, 3.9, 1.1, 'versicolor'],\n [5.9, 3.0, 4.2, 1.5, 'versicolor'],\n [5.2, 4.1, 1.5, 0.1, 'setosa'],\n [5.0, 3.3, 1.4, 0.2, 'setosa'],\n [5.9, 3.2, 4.8, 1.8, 'versicolor'],\n [4.9, 3.0, 1.4, 0.2, 'setosa'],\n [6.8, 2.8, 4.8, 1.4, 'versicolor'],\n [5.1, 3.5, 1.4, 0.3, 'setosa'],\n [7.2, 3.0, 5.8, 1.6, 'virginica'],\n [5.4, 3.9, 1.3, 0.4, 'setosa'],\n [6.4, 2.8, 5.6, 2.2, 'virginica'],\n [6.4, 3.2, 4.5, 1.5, 'versicolor'],\n [6.7, 3.3, 5.7, 2.1, 'virginica'],\n [5.1, 3.8, 1.9, 0.4, 'setosa'],\n [5.1, 3.3, 1.7, 0.5, 'setosa'],\n [5.7, 2.6, 3.5, 1.0, 'versicolor'],\n [6.0, 2.2, 5.0, 1.5, 'virginica'],\n [5.9, 3.0, 5.1, 1.8, 'virginica'],\n [4.6, 3.2, 1.4, 0.2, 'setosa'],\n [6.0, 2.9, 4.5, 1.5, 'versicolor'],\n [6.9, 3.1, 5.4, 2.1, 'virginica'],\n [6.8, 3.0, 5.5, 2.1, 'virginica'],\n [4.9, 3.1, 1.5, 0.1, 'setosa'],\n [4.9, 2.4, 3.3, 1.0, 'versicolor'],\n [4.8, 3.1, 1.6, 0.2, 'setosa'],\n [5.8, 2.7, 5.1, 1.9, 'virginica'],\n [4.4, 2.9, 1.4, 0.2, 'setosa'],\n [5.6, 3.0, 4.1, 1.3, 'versicolor'],\n [6.3, 2.7, 4.9, 1.8, 'virginica'],\n [4.5, 2.3, 1.3, 0.3, 'setosa'],\n [5.0, 3.6, 1.4, 0.2, 'setosa'],\n [5.1, 3.5, 1.4, 0.2, 'setosa'],\n [7.9, 3.8, 6.4, 2.0, 'virginica'],\n [5.8, 2.7, 3.9, 1.2, 'versicolor'],\n [5.8, 2.8, 5.1, 2.4, 'virginica'],\n [4.8, 3.0, 1.4, 0.1, 'setosa'],\n [6.2, 2.9, 4.3, 1.3, 'versicolor'],\n [5.7, 2.9, 4.2, 1.3, 'versicolor'],\n [6.3, 2.8, 5.1, 1.5, 'virginica'],\n [6.7, 3.1, 4.7, 1.5, 'versicolor'],\n [4.8, 3.4, 1.9, 0.2, 'setosa'],\n [7.4, 2.8, 6.1, 1.9, 'virginica'],\n [4.9, 3.1, 1.5, 0.1, 'setosa'],\n [7.7, 3.0, 6.1, 2.3, 'virginica'],\n [5.1, 2.5, 3.0, 1.1, 'versicolor'],\n [5.5, 2.4, 3.7, 1.0, 'versicolor'],\n [6.1, 3.0, 4.9, 1.8, 'virginica'],\n [5.1, 3.7, 1.5, 0.4, 'setosa'],\n [6.0, 2.7, 5.1, 1.6, 'versicolor'],\n [6.7, 2.5, 5.8, 1.8, 'virginica'],\n [7.0, 3.2, 4.7, 1.4, 'versicolor'],\n [5.8, 2.7, 5.1, 1.9, 'virginica'],\n [4.6, 3.6, 1.0, 0.2, 'setosa'],\n [5.5, 2.5, 4.0, 1.3, 'versicolor'],\n [4.9, 3.1, 1.5, 0.1, 'setosa'],\n [5.6, 2.8, 4.9, 2.0, 'virginica'],\n [6.3, 3.3, 4.7, 1.6, 'versicolor'],\n [6.1, 2.6, 5.6, 1.4, 'virginica'],\n [6.4, 3.1, 5.5, 1.8, 'virginica'],\n [5.1, 3.8, 1.5, 0.3, 'setosa'],\n [5.1, 3.8, 1.6, 0.2, 'setosa'],\n [4.7, 3.2, 1.3, 0.2, 'setosa'],\n [6.3, 2.3, 4.4, 1.3, 'versicolor'],\n [5.7, 2.8, 4.1, 1.3, 'versicolor'],\n [5.0, 3.4, 1.6, 0.4, 'setosa'],\n [7.7, 2.8, 6.7, 2.0, 'virginica'],\n [7.7, 3.8, 6.7, 2.2, 'virginica'],\n [6.5, 3.0, 5.8, 2.2, 'virginica'],\n [6.0, 3.4, 4.5, 1.6, 'versicolor'],\n [6.4, 2.9, 4.3, 1.3, 'versicolor'],\n [6.6, 2.9, 4.6, 1.3, 'versicolor'],\n [5.0, 3.5, 1.6, 0.6, 'setosa'],\n [6.1, 3.0, 4.6, 1.4, 'versicolor'],\n [7.6, 3.0, 6.6, 2.1, 'virginica'],\n [5.7, 3.8, 1.7, 0.3, 'setosa'],\n [6.2, 3.4, 5.4, 2.3, 'virginica'],\n [5.4, 3.4, 1.7, 0.2, 'setosa'],\n [6.1, 2.8, 4.0, 1.3, 'versicolor'],\n [6.5, 2.8, 4.6, 1.5, 'versicolor'],\n [6.9, 3.1, 5.1, 2.3, 'virginica'],\n [4.6, 3.1, 1.5, 0.2, 'setosa'],\n [7.7, 2.6, 6.9, 2.3, 'virginica'],\n [5.8, 2.7, 4.1, 1.0, 'versicolor'],\n [6.3, 2.5, 4.9, 1.5, 'versicolor'],\n [5.6, 2.9, 3.6, 1.3, 'versicolor'],\n [5.2, 3.4, 1.4, 0.2, 'setosa'],\n [5.0, 3.5, 1.3, 0.3, 'setosa'],\n [6.1, 2.8, 4.7, 1.2, 'versicolor'],\n [4.6, 3.4, 1.4, 0.3, 'setosa'],\n [6.4, 2.8, 5.6, 2.1, 'virginica'],\n [5.5, 2.6, 4.4, 1.2, 'versicolor'],\n [5.5, 3.5, 1.3, 0.2, 'setosa'],\n [6.2, 2.8, 4.8, 1.8, 'virginica'],\n [5.6, 2.7, 4.2, 1.3, 'versicolor'],\n [6.1, 2.9, 4.7, 1.4, 'versicolor'],\n [6.4, 2.7, 5.3, 1.9, 'virginica'],\n [5.7, 3.0, 4.2, 1.2, 'versicolor'],\n [6.3, 3.3, 6.0, 2.5, 'virginica'],\n [5.4, 3.4, 1.5, 0.4, 'setosa'],\n [6.8, 3.2, 5.9, 2.3, 'virginica'],\n [6.7, 3.3, 5.7, 2.5, 'virginica'],\n [6.7, 3.1, 4.4, 1.4, 'versicolor'],\n [5.0, 3.4, 1.5, 0.2, 'setosa'],\n [4.4, 3.2, 1.3, 0.2, 'setosa'],\n [7.2, 3.2, 6.0, 1.8, 'virginica'],\n [4.7, 3.2, 1.6, 0.2, 'setosa'],\n [4.8, 3.0, 1.4, 0.3, 'setosa'],\n [5.8, 2.6, 4.0, 1.2, 'versicolor'],\n [5.5, 4.2, 1.4, 0.2, 'setosa'],\n [6.4, 3.2, 5.3, 2.3, 'virginica'],\n [6.0, 3.0, 4.8, 1.8, 'virginica']]"
     },
     "execution_count": 12,
     "metadata": {},
     "output_type": "execute_result"
    }
   ],
   "metadata": {}
  },
  {
   "cell_type": "code",
   "execution_count": 13,
   "source": [
    "test[2]"
   ],
   "outputs": [
    {
     "data": {
      "text/plain": "[[5.7, 4.4, 1.5, 0.4, 'setosa'],\n [6.5, 3.0, 5.2, 2.0, 'virginica'],\n [6.3, 2.5, 5.0, 1.9, 'virginica'],\n [4.8, 3.4, 1.6, 0.2, 'setosa'],\n [5.4, 3.0, 4.5, 1.5, 'versicolor'],\n [5.5, 2.4, 3.8, 1.1, 'versicolor'],\n [6.3, 3.4, 5.6, 2.4, 'virginica'],\n [4.3, 3.0, 1.1, 0.1, 'setosa'],\n [5.0, 3.0, 1.6, 0.2, 'setosa'],\n [6.7, 3.0, 5.0, 1.7, 'versicolor'],\n [5.2, 3.5, 1.5, 0.2, 'setosa'],\n [6.5, 3.2, 5.1, 2.0, 'virginica'],\n [6.9, 3.2, 5.7, 2.3, 'virginica'],\n [6.7, 3.0, 5.2, 2.3, 'virginica'],\n [5.4, 3.7, 1.5, 0.2, 'setosa'],\n [6.7, 3.1, 5.6, 2.4, 'virginica'],\n [5.2, 2.7, 3.9, 1.4, 'versicolor'],\n [5.5, 2.3, 4.0, 1.3, 'versicolor'],\n [5.8, 4.0, 1.2, 0.2, 'setosa'],\n [5.0, 2.3, 3.3, 1.0, 'versicolor'],\n [6.3, 2.9, 5.6, 1.8, 'virginica'],\n [5.7, 2.5, 5.0, 2.0, 'virginica'],\n [5.4, 3.9, 1.7, 0.4, 'setosa'],\n [6.2, 2.2, 4.5, 1.5, 'versicolor'],\n [6.0, 2.2, 4.0, 1.0, 'versicolor'],\n [4.4, 3.0, 1.3, 0.2, 'setosa'],\n [6.9, 3.1, 4.9, 1.5, 'versicolor'],\n [5.3, 3.7, 1.5, 0.2, 'setosa'],\n [7.2, 3.6, 6.1, 2.5, 'virginica'],\n [5.6, 3.0, 4.5, 1.5, 'versicolor']]"
     },
     "execution_count": 13,
     "metadata": {},
     "output_type": "execute_result"
    }
   ],
   "metadata": {}
  },
  {
   "cell_type": "code",
   "execution_count": 14,
   "source": [
    "train[3]"
   ],
   "outputs": [
    {
     "data": {
      "text/plain": "[[7.3, 2.9, 6.3, 1.8, 'virginica'],\n [7.1, 3.0, 5.9, 2.1, 'virginica'],\n [5.1, 3.4, 1.5, 0.2, 'setosa'],\n [5.0, 2.0, 3.5, 1.0, 'versicolor'],\n [6.5, 3.0, 5.5, 1.8, 'virginica'],\n [5.0, 3.2, 1.2, 0.2, 'setosa'],\n [6.6, 3.0, 4.4, 1.4, 'versicolor'],\n [5.7, 2.8, 4.5, 1.3, 'versicolor'],\n [4.9, 2.5, 4.5, 1.7, 'virginica'],\n [5.6, 2.5, 3.9, 1.1, 'versicolor'],\n [5.9, 3.0, 4.2, 1.5, 'versicolor'],\n [5.2, 4.1, 1.5, 0.1, 'setosa'],\n [5.0, 3.3, 1.4, 0.2, 'setosa'],\n [5.9, 3.2, 4.8, 1.8, 'versicolor'],\n [4.9, 3.0, 1.4, 0.2, 'setosa'],\n [6.8, 2.8, 4.8, 1.4, 'versicolor'],\n [5.1, 3.5, 1.4, 0.3, 'setosa'],\n [7.2, 3.0, 5.8, 1.6, 'virginica'],\n [5.4, 3.9, 1.3, 0.4, 'setosa'],\n [6.4, 2.8, 5.6, 2.2, 'virginica'],\n [6.4, 3.2, 4.5, 1.5, 'versicolor'],\n [6.7, 3.3, 5.7, 2.1, 'virginica'],\n [5.1, 3.8, 1.9, 0.4, 'setosa'],\n [5.1, 3.3, 1.7, 0.5, 'setosa'],\n [5.7, 2.6, 3.5, 1.0, 'versicolor'],\n [6.0, 2.2, 5.0, 1.5, 'virginica'],\n [5.9, 3.0, 5.1, 1.8, 'virginica'],\n [4.6, 3.2, 1.4, 0.2, 'setosa'],\n [6.0, 2.9, 4.5, 1.5, 'versicolor'],\n [6.9, 3.1, 5.4, 2.1, 'virginica'],\n [6.8, 3.0, 5.5, 2.1, 'virginica'],\n [4.9, 3.1, 1.5, 0.1, 'setosa'],\n [4.9, 2.4, 3.3, 1.0, 'versicolor'],\n [4.8, 3.1, 1.6, 0.2, 'setosa'],\n [5.8, 2.7, 5.1, 1.9, 'virginica'],\n [4.4, 2.9, 1.4, 0.2, 'setosa'],\n [5.6, 3.0, 4.1, 1.3, 'versicolor'],\n [6.3, 2.7, 4.9, 1.8, 'virginica'],\n [4.5, 2.3, 1.3, 0.3, 'setosa'],\n [5.0, 3.6, 1.4, 0.2, 'setosa'],\n [5.1, 3.5, 1.4, 0.2, 'setosa'],\n [7.9, 3.8, 6.4, 2.0, 'virginica'],\n [5.8, 2.7, 3.9, 1.2, 'versicolor'],\n [5.8, 2.8, 5.1, 2.4, 'virginica'],\n [4.8, 3.0, 1.4, 0.1, 'setosa'],\n [6.2, 2.9, 4.3, 1.3, 'versicolor'],\n [5.7, 2.9, 4.2, 1.3, 'versicolor'],\n [6.3, 2.8, 5.1, 1.5, 'virginica'],\n [6.7, 3.1, 4.7, 1.5, 'versicolor'],\n [4.8, 3.4, 1.9, 0.2, 'setosa'],\n [7.4, 2.8, 6.1, 1.9, 'virginica'],\n [4.9, 3.1, 1.5, 0.1, 'setosa'],\n [7.7, 3.0, 6.1, 2.3, 'virginica'],\n [5.1, 2.5, 3.0, 1.1, 'versicolor'],\n [5.5, 2.4, 3.7, 1.0, 'versicolor'],\n [6.1, 3.0, 4.9, 1.8, 'virginica'],\n [5.1, 3.7, 1.5, 0.4, 'setosa'],\n [6.0, 2.7, 5.1, 1.6, 'versicolor'],\n [6.7, 2.5, 5.8, 1.8, 'virginica'],\n [7.0, 3.2, 4.7, 1.4, 'versicolor'],\n [5.7, 4.4, 1.5, 0.4, 'setosa'],\n [6.5, 3.0, 5.2, 2.0, 'virginica'],\n [6.3, 2.5, 5.0, 1.9, 'virginica'],\n [4.8, 3.4, 1.6, 0.2, 'setosa'],\n [5.4, 3.0, 4.5, 1.5, 'versicolor'],\n [5.5, 2.4, 3.8, 1.1, 'versicolor'],\n [6.3, 3.4, 5.6, 2.4, 'virginica'],\n [4.3, 3.0, 1.1, 0.1, 'setosa'],\n [5.0, 3.0, 1.6, 0.2, 'setosa'],\n [6.7, 3.0, 5.0, 1.7, 'versicolor'],\n [5.2, 3.5, 1.5, 0.2, 'setosa'],\n [6.5, 3.2, 5.1, 2.0, 'virginica'],\n [6.9, 3.2, 5.7, 2.3, 'virginica'],\n [6.7, 3.0, 5.2, 2.3, 'virginica'],\n [5.4, 3.7, 1.5, 0.2, 'setosa'],\n [6.7, 3.1, 5.6, 2.4, 'virginica'],\n [5.2, 2.7, 3.9, 1.4, 'versicolor'],\n [5.5, 2.3, 4.0, 1.3, 'versicolor'],\n [5.8, 4.0, 1.2, 0.2, 'setosa'],\n [5.0, 2.3, 3.3, 1.0, 'versicolor'],\n [6.3, 2.9, 5.6, 1.8, 'virginica'],\n [5.7, 2.5, 5.0, 2.0, 'virginica'],\n [5.4, 3.9, 1.7, 0.4, 'setosa'],\n [6.2, 2.2, 4.5, 1.5, 'versicolor'],\n [6.0, 2.2, 4.0, 1.0, 'versicolor'],\n [4.4, 3.0, 1.3, 0.2, 'setosa'],\n [6.9, 3.1, 4.9, 1.5, 'versicolor'],\n [5.3, 3.7, 1.5, 0.2, 'setosa'],\n [7.2, 3.6, 6.1, 2.5, 'virginica'],\n [5.6, 3.0, 4.5, 1.5, 'versicolor'],\n [7.7, 2.6, 6.9, 2.3, 'virginica'],\n [5.8, 2.7, 4.1, 1.0, 'versicolor'],\n [6.3, 2.5, 4.9, 1.5, 'versicolor'],\n [5.6, 2.9, 3.6, 1.3, 'versicolor'],\n [5.2, 3.4, 1.4, 0.2, 'setosa'],\n [5.0, 3.5, 1.3, 0.3, 'setosa'],\n [6.1, 2.8, 4.7, 1.2, 'versicolor'],\n [4.6, 3.4, 1.4, 0.3, 'setosa'],\n [6.4, 2.8, 5.6, 2.1, 'virginica'],\n [5.5, 2.6, 4.4, 1.2, 'versicolor'],\n [5.5, 3.5, 1.3, 0.2, 'setosa'],\n [6.2, 2.8, 4.8, 1.8, 'virginica'],\n [5.6, 2.7, 4.2, 1.3, 'versicolor'],\n [6.1, 2.9, 4.7, 1.4, 'versicolor'],\n [6.4, 2.7, 5.3, 1.9, 'virginica'],\n [5.7, 3.0, 4.2, 1.2, 'versicolor'],\n [6.3, 3.3, 6.0, 2.5, 'virginica'],\n [5.4, 3.4, 1.5, 0.4, 'setosa'],\n [6.8, 3.2, 5.9, 2.3, 'virginica'],\n [6.7, 3.3, 5.7, 2.5, 'virginica'],\n [6.7, 3.1, 4.4, 1.4, 'versicolor'],\n [5.0, 3.4, 1.5, 0.2, 'setosa'],\n [4.4, 3.2, 1.3, 0.2, 'setosa'],\n [7.2, 3.2, 6.0, 1.8, 'virginica'],\n [4.7, 3.2, 1.6, 0.2, 'setosa'],\n [4.8, 3.0, 1.4, 0.3, 'setosa'],\n [5.8, 2.6, 4.0, 1.2, 'versicolor'],\n [5.5, 4.2, 1.4, 0.2, 'setosa'],\n [6.4, 3.2, 5.3, 2.3, 'virginica'],\n [6.0, 3.0, 4.8, 1.8, 'virginica']]"
     },
     "execution_count": 14,
     "metadata": {},
     "output_type": "execute_result"
    }
   ],
   "metadata": {}
  },
  {
   "cell_type": "code",
   "execution_count": 15,
   "source": [
    "test[3]"
   ],
   "outputs": [
    {
     "data": {
      "text/plain": "[[5.8, 2.7, 5.1, 1.9, 'virginica'],\n [4.6, 3.6, 1.0, 0.2, 'setosa'],\n [5.5, 2.5, 4.0, 1.3, 'versicolor'],\n [4.9, 3.1, 1.5, 0.1, 'setosa'],\n [5.6, 2.8, 4.9, 2.0, 'virginica'],\n [6.3, 3.3, 4.7, 1.6, 'versicolor'],\n [6.1, 2.6, 5.6, 1.4, 'virginica'],\n [6.4, 3.1, 5.5, 1.8, 'virginica'],\n [5.1, 3.8, 1.5, 0.3, 'setosa'],\n [5.1, 3.8, 1.6, 0.2, 'setosa'],\n [4.7, 3.2, 1.3, 0.2, 'setosa'],\n [6.3, 2.3, 4.4, 1.3, 'versicolor'],\n [5.7, 2.8, 4.1, 1.3, 'versicolor'],\n [5.0, 3.4, 1.6, 0.4, 'setosa'],\n [7.7, 2.8, 6.7, 2.0, 'virginica'],\n [7.7, 3.8, 6.7, 2.2, 'virginica'],\n [6.5, 3.0, 5.8, 2.2, 'virginica'],\n [6.0, 3.4, 4.5, 1.6, 'versicolor'],\n [6.4, 2.9, 4.3, 1.3, 'versicolor'],\n [6.6, 2.9, 4.6, 1.3, 'versicolor'],\n [5.0, 3.5, 1.6, 0.6, 'setosa'],\n [6.1, 3.0, 4.6, 1.4, 'versicolor'],\n [7.6, 3.0, 6.6, 2.1, 'virginica'],\n [5.7, 3.8, 1.7, 0.3, 'setosa'],\n [6.2, 3.4, 5.4, 2.3, 'virginica'],\n [5.4, 3.4, 1.7, 0.2, 'setosa'],\n [6.1, 2.8, 4.0, 1.3, 'versicolor'],\n [6.5, 2.8, 4.6, 1.5, 'versicolor'],\n [6.9, 3.1, 5.1, 2.3, 'virginica'],\n [4.6, 3.1, 1.5, 0.2, 'setosa']]"
     },
     "execution_count": 15,
     "metadata": {},
     "output_type": "execute_result"
    }
   ],
   "metadata": {}
  },
  {
   "cell_type": "code",
   "execution_count": 16,
   "source": [
    "train[4]"
   ],
   "outputs": [
    {
     "data": {
      "text/plain": "[[7.3, 2.9, 6.3, 1.8, 'virginica'],\n [7.1, 3.0, 5.9, 2.1, 'virginica'],\n [5.1, 3.4, 1.5, 0.2, 'setosa'],\n [5.0, 2.0, 3.5, 1.0, 'versicolor'],\n [6.5, 3.0, 5.5, 1.8, 'virginica'],\n [5.0, 3.2, 1.2, 0.2, 'setosa'],\n [6.6, 3.0, 4.4, 1.4, 'versicolor'],\n [5.7, 2.8, 4.5, 1.3, 'versicolor'],\n [4.9, 2.5, 4.5, 1.7, 'virginica'],\n [5.6, 2.5, 3.9, 1.1, 'versicolor'],\n [5.9, 3.0, 4.2, 1.5, 'versicolor'],\n [5.2, 4.1, 1.5, 0.1, 'setosa'],\n [5.0, 3.3, 1.4, 0.2, 'setosa'],\n [5.9, 3.2, 4.8, 1.8, 'versicolor'],\n [4.9, 3.0, 1.4, 0.2, 'setosa'],\n [6.8, 2.8, 4.8, 1.4, 'versicolor'],\n [5.1, 3.5, 1.4, 0.3, 'setosa'],\n [7.2, 3.0, 5.8, 1.6, 'virginica'],\n [5.4, 3.9, 1.3, 0.4, 'setosa'],\n [6.4, 2.8, 5.6, 2.2, 'virginica'],\n [6.4, 3.2, 4.5, 1.5, 'versicolor'],\n [6.7, 3.3, 5.7, 2.1, 'virginica'],\n [5.1, 3.8, 1.9, 0.4, 'setosa'],\n [5.1, 3.3, 1.7, 0.5, 'setosa'],\n [5.7, 2.6, 3.5, 1.0, 'versicolor'],\n [6.0, 2.2, 5.0, 1.5, 'virginica'],\n [5.9, 3.0, 5.1, 1.8, 'virginica'],\n [4.6, 3.2, 1.4, 0.2, 'setosa'],\n [6.0, 2.9, 4.5, 1.5, 'versicolor'],\n [6.9, 3.1, 5.4, 2.1, 'virginica'],\n [6.8, 3.0, 5.5, 2.1, 'virginica'],\n [4.9, 3.1, 1.5, 0.1, 'setosa'],\n [4.9, 2.4, 3.3, 1.0, 'versicolor'],\n [4.8, 3.1, 1.6, 0.2, 'setosa'],\n [5.8, 2.7, 5.1, 1.9, 'virginica'],\n [4.4, 2.9, 1.4, 0.2, 'setosa'],\n [5.6, 3.0, 4.1, 1.3, 'versicolor'],\n [6.3, 2.7, 4.9, 1.8, 'virginica'],\n [4.5, 2.3, 1.3, 0.3, 'setosa'],\n [5.0, 3.6, 1.4, 0.2, 'setosa'],\n [5.1, 3.5, 1.4, 0.2, 'setosa'],\n [7.9, 3.8, 6.4, 2.0, 'virginica'],\n [5.8, 2.7, 3.9, 1.2, 'versicolor'],\n [5.8, 2.8, 5.1, 2.4, 'virginica'],\n [4.8, 3.0, 1.4, 0.1, 'setosa'],\n [6.2, 2.9, 4.3, 1.3, 'versicolor'],\n [5.7, 2.9, 4.2, 1.3, 'versicolor'],\n [6.3, 2.8, 5.1, 1.5, 'virginica'],\n [6.7, 3.1, 4.7, 1.5, 'versicolor'],\n [4.8, 3.4, 1.9, 0.2, 'setosa'],\n [7.4, 2.8, 6.1, 1.9, 'virginica'],\n [4.9, 3.1, 1.5, 0.1, 'setosa'],\n [7.7, 3.0, 6.1, 2.3, 'virginica'],\n [5.1, 2.5, 3.0, 1.1, 'versicolor'],\n [5.5, 2.4, 3.7, 1.0, 'versicolor'],\n [6.1, 3.0, 4.9, 1.8, 'virginica'],\n [5.1, 3.7, 1.5, 0.4, 'setosa'],\n [6.0, 2.7, 5.1, 1.6, 'versicolor'],\n [6.7, 2.5, 5.8, 1.8, 'virginica'],\n [7.0, 3.2, 4.7, 1.4, 'versicolor'],\n [5.7, 4.4, 1.5, 0.4, 'setosa'],\n [6.5, 3.0, 5.2, 2.0, 'virginica'],\n [6.3, 2.5, 5.0, 1.9, 'virginica'],\n [4.8, 3.4, 1.6, 0.2, 'setosa'],\n [5.4, 3.0, 4.5, 1.5, 'versicolor'],\n [5.5, 2.4, 3.8, 1.1, 'versicolor'],\n [6.3, 3.4, 5.6, 2.4, 'virginica'],\n [4.3, 3.0, 1.1, 0.1, 'setosa'],\n [5.0, 3.0, 1.6, 0.2, 'setosa'],\n [6.7, 3.0, 5.0, 1.7, 'versicolor'],\n [5.2, 3.5, 1.5, 0.2, 'setosa'],\n [6.5, 3.2, 5.1, 2.0, 'virginica'],\n [6.9, 3.2, 5.7, 2.3, 'virginica'],\n [6.7, 3.0, 5.2, 2.3, 'virginica'],\n [5.4, 3.7, 1.5, 0.2, 'setosa'],\n [6.7, 3.1, 5.6, 2.4, 'virginica'],\n [5.2, 2.7, 3.9, 1.4, 'versicolor'],\n [5.5, 2.3, 4.0, 1.3, 'versicolor'],\n [5.8, 4.0, 1.2, 0.2, 'setosa'],\n [5.0, 2.3, 3.3, 1.0, 'versicolor'],\n [6.3, 2.9, 5.6, 1.8, 'virginica'],\n [5.7, 2.5, 5.0, 2.0, 'virginica'],\n [5.4, 3.9, 1.7, 0.4, 'setosa'],\n [6.2, 2.2, 4.5, 1.5, 'versicolor'],\n [6.0, 2.2, 4.0, 1.0, 'versicolor'],\n [4.4, 3.0, 1.3, 0.2, 'setosa'],\n [6.9, 3.1, 4.9, 1.5, 'versicolor'],\n [5.3, 3.7, 1.5, 0.2, 'setosa'],\n [7.2, 3.6, 6.1, 2.5, 'virginica'],\n [5.6, 3.0, 4.5, 1.5, 'versicolor'],\n [5.8, 2.7, 5.1, 1.9, 'virginica'],\n [4.6, 3.6, 1.0, 0.2, 'setosa'],\n [5.5, 2.5, 4.0, 1.3, 'versicolor'],\n [4.9, 3.1, 1.5, 0.1, 'setosa'],\n [5.6, 2.8, 4.9, 2.0, 'virginica'],\n [6.3, 3.3, 4.7, 1.6, 'versicolor'],\n [6.1, 2.6, 5.6, 1.4, 'virginica'],\n [6.4, 3.1, 5.5, 1.8, 'virginica'],\n [5.1, 3.8, 1.5, 0.3, 'setosa'],\n [5.1, 3.8, 1.6, 0.2, 'setosa'],\n [4.7, 3.2, 1.3, 0.2, 'setosa'],\n [6.3, 2.3, 4.4, 1.3, 'versicolor'],\n [5.7, 2.8, 4.1, 1.3, 'versicolor'],\n [5.0, 3.4, 1.6, 0.4, 'setosa'],\n [7.7, 2.8, 6.7, 2.0, 'virginica'],\n [7.7, 3.8, 6.7, 2.2, 'virginica'],\n [6.5, 3.0, 5.8, 2.2, 'virginica'],\n [6.0, 3.4, 4.5, 1.6, 'versicolor'],\n [6.4, 2.9, 4.3, 1.3, 'versicolor'],\n [6.6, 2.9, 4.6, 1.3, 'versicolor'],\n [5.0, 3.5, 1.6, 0.6, 'setosa'],\n [6.1, 3.0, 4.6, 1.4, 'versicolor'],\n [7.6, 3.0, 6.6, 2.1, 'virginica'],\n [5.7, 3.8, 1.7, 0.3, 'setosa'],\n [6.2, 3.4, 5.4, 2.3, 'virginica'],\n [5.4, 3.4, 1.7, 0.2, 'setosa'],\n [6.1, 2.8, 4.0, 1.3, 'versicolor'],\n [6.5, 2.8, 4.6, 1.5, 'versicolor'],\n [6.9, 3.1, 5.1, 2.3, 'virginica'],\n [4.6, 3.1, 1.5, 0.2, 'setosa']]"
     },
     "execution_count": 16,
     "metadata": {},
     "output_type": "execute_result"
    }
   ],
   "metadata": {}
  },
  {
   "cell_type": "code",
   "execution_count": 17,
   "source": [
    "test[4]"
   ],
   "outputs": [
    {
     "data": {
      "text/plain": "[[7.7, 2.6, 6.9, 2.3, 'virginica'],\n [5.8, 2.7, 4.1, 1.0, 'versicolor'],\n [6.3, 2.5, 4.9, 1.5, 'versicolor'],\n [5.6, 2.9, 3.6, 1.3, 'versicolor'],\n [5.2, 3.4, 1.4, 0.2, 'setosa'],\n [5.0, 3.5, 1.3, 0.3, 'setosa'],\n [6.1, 2.8, 4.7, 1.2, 'versicolor'],\n [4.6, 3.4, 1.4, 0.3, 'setosa'],\n [6.4, 2.8, 5.6, 2.1, 'virginica'],\n [5.5, 2.6, 4.4, 1.2, 'versicolor'],\n [5.5, 3.5, 1.3, 0.2, 'setosa'],\n [6.2, 2.8, 4.8, 1.8, 'virginica'],\n [5.6, 2.7, 4.2, 1.3, 'versicolor'],\n [6.1, 2.9, 4.7, 1.4, 'versicolor'],\n [6.4, 2.7, 5.3, 1.9, 'virginica'],\n [5.7, 3.0, 4.2, 1.2, 'versicolor'],\n [6.3, 3.3, 6.0, 2.5, 'virginica'],\n [5.4, 3.4, 1.5, 0.4, 'setosa'],\n [6.8, 3.2, 5.9, 2.3, 'virginica'],\n [6.7, 3.3, 5.7, 2.5, 'virginica'],\n [6.7, 3.1, 4.4, 1.4, 'versicolor'],\n [5.0, 3.4, 1.5, 0.2, 'setosa'],\n [4.4, 3.2, 1.3, 0.2, 'setosa'],\n [7.2, 3.2, 6.0, 1.8, 'virginica'],\n [4.7, 3.2, 1.6, 0.2, 'setosa'],\n [4.8, 3.0, 1.4, 0.3, 'setosa'],\n [5.8, 2.6, 4.0, 1.2, 'versicolor'],\n [5.5, 4.2, 1.4, 0.2, 'setosa'],\n [6.4, 3.2, 5.3, 2.3, 'virginica'],\n [6.0, 3.0, 4.8, 1.8, 'virginica']]"
     },
     "execution_count": 17,
     "metadata": {},
     "output_type": "execute_result"
    }
   ],
   "metadata": {}
  }
 ],
 "metadata": {
  "orig_nbformat": 4,
  "language_info": {
   "name": "python",
   "version": "3.8.8",
   "mimetype": "text/x-python",
   "codemirror_mode": {
    "name": "ipython",
    "version": 3
   },
   "pygments_lexer": "ipython3",
   "nbconvert_exporter": "python",
   "file_extension": ".py"
  },
  "kernelspec": {
   "name": "python3",
   "language": "python",
   "display_name": "Python 3 (ipykernel)"
  },
  "interpreter": {
   "hash": "bd2c479f9ab784006b03f8385ea5173120560e17408ac8a3f47151418f50dc35"
  }
 },
 "nbformat": 4,
 "nbformat_minor": 2
}